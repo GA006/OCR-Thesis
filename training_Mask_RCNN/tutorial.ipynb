{
 "cells": [
  {
   "cell_type": "markdown",
   "metadata": {},
   "source": [
    "# Tutorial\n",
    "Training a Mask R-CNN on a benchmark dataset - PrimaDataset "
   ]
  },
  {
   "cell_type": "markdown",
   "metadata": {},
   "source": [
    "You can download the dataset from https://www.primaresearch.org/datasets/Layout_Analysis"
   ]
  },
  {
   "cell_type": "markdown",
   "metadata": {},
   "source": [
    "First, we call the wrapper function for the conversion from XML to json-format. We need json-format in order to train the Mask R-CNN. We create custom taxonomy in the file <u>convert_prima_to_3_classes</u> which can be changed, depending on the purpose of the task."
   ]
  },
  {
   "cell_type": "code",
   "execution_count": 2,
   "metadata": {},
   "outputs": [
    {
     "name": "stderr",
     "output_type": "stream",
     "text": [
      "100%|██████████| 478/478 [00:14<00:00, 32.53it/s]\n"
     ]
    }
   ],
   "source": [
    "from utils.convert_prima_to_3_classes import wrapper \n",
    "\n",
    "wrapper('./data/prima','./data/prima/annotations.json')"
   ]
  },
  {
   "cell_type": "markdown",
   "metadata": {},
   "source": [
    "Second, we split the dataset into train-test."
   ]
  },
  {
   "cell_type": "code",
   "execution_count": 3,
   "metadata": {},
   "outputs": [
    {
     "name": "stdout",
     "output_type": "stream",
     "text": [
      "Saved 382 entries in ./data/prima/annotations-train.json and 96 in ./data/prima/annotations-val.json\n"
     ]
    }
   ],
   "source": [
    "from utils.cocosplit import main\n",
    "\n",
    "main('./data/prima/annotations.json', 0.8, True, './data/prima/annotations-train.json', './data/prima/annotations-val.json', 24)"
   ]
  },
  {
   "cell_type": "markdown",
   "metadata": {},
   "source": [
    "Given that some images come without annotations, we create a test set consisting of images which won't be used in training the model."
   ]
  },
  {
   "cell_type": "code",
   "execution_count": 4,
   "metadata": {},
   "outputs": [],
   "source": [
    "from utils.test_set_creator import test_set_creator\n",
    "\n",
    "test_set_creator('./data/prima/annotations.json', './data/prima/Images', './test_set')"
   ]
  },
  {
   "cell_type": "markdown",
   "metadata": {},
   "source": [
    "Once, we have finished with the data prepration, we run the <u>train_prima.sh</u> script in the scripts folder. If you encounter difficulties in running the bash script, you can paste the command directly in the terminal."
   ]
  }
 ],
 "metadata": {
  "interpreter": {
   "hash": "3a5ac18e3e4e8a4b0d2fd38feacc422166fc2a2f519ee89cfdb6333e564c0200"
  },
  "kernelspec": {
   "display_name": "Python 3.9.12 ('training')",
   "language": "python",
   "name": "python3"
  },
  "language_info": {
   "codemirror_mode": {
    "name": "ipython",
    "version": 3
   },
   "file_extension": ".py",
   "mimetype": "text/x-python",
   "name": "python",
   "nbconvert_exporter": "python",
   "pygments_lexer": "ipython3",
   "version": "3.9.5"
  },
  "orig_nbformat": 4
 },
 "nbformat": 4,
 "nbformat_minor": 2
}
