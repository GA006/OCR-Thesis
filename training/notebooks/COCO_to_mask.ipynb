{
 "cells": [
  {
   "cell_type": "code",
   "execution_count": 1,
   "metadata": {},
   "outputs": [],
   "source": [
    "import json\n",
    "import os\n",
    "\n",
    "from PIL import Image, ImageDraw"
   ]
  },
  {
   "cell_type": "code",
   "execution_count": 2,
   "metadata": {},
   "outputs": [],
   "source": [
    "f = open('../data/prima/annotations.json')\n",
    "\n",
    "data = json.load(f)"
   ]
  },
  {
   "cell_type": "code",
   "execution_count": 3,
   "metadata": {},
   "outputs": [],
   "source": [
    "COLOR_CONV = {0: (0,0,0), 1: (0,0,255), 2: (255,0,0), 3: (255,192,203), 4: (0,255,0), 5: (255,255,0), 6: (128,0,128), 7: (100,100,100), 8: (200,200,200), 9: (35,190,18), 10: (20,60,230)}\n",
    "PATH_TO_IMAGES = \"../data/prima/Images/\""
   ]
  },
  {
   "cell_type": "code",
   "execution_count": 4,
   "metadata": {},
   "outputs": [],
   "source": [
    "conv = [[0,0,0],[0,0,255],[255,0,0],[255,192,203],[0,255,0],[255,255,0],[128,0,128]]"
   ]
  },
  {
   "cell_type": "code",
   "execution_count": 6,
   "metadata": {},
   "outputs": [],
   "source": [
    "for filename in os.listdir(PATH_TO_IMAGES):\n",
    "    image_id = [i['id'] for i in data['images'] if filename == i['file_name']][0]\n",
    "    image = Image.open(PATH_TO_IMAGES + filename)\n",
    "    draw = ImageDraw.Draw(image, 'RGBA')\n",
    "    draw.rectangle([(0,0), (image.size[0]-1, image.size[1]-1)], outline=COLOR_CONV[0], fill=COLOR_CONV[0])\n",
    "    for i in data['annotations']:\n",
    "        if i['image_id'] == image_id:\n",
    "            if len(i['segmentation']) == 0:\n",
    "                continue\n",
    "            coords = [(i['segmentation'][0][j],i['segmentation'][0][j+1]) for j in range(0,len(i['segmentation'][0]),2)]\n",
    "            draw.polygon(coords, fill=COLOR_CONV[i['category_id']])\n",
    "    filename = filename.strip('tif')\n",
    "    image.save('../setr_annotations/'+ filename + 'png')\n",
    "    \n",
    "    \n"
   ]
  }
 ],
 "metadata": {
  "interpreter": {
   "hash": "916dbcbb3f70747c44a77c7bcd40155683ae19c65e1c03b4aa3499c5328201f1"
  },
  "kernelspec": {
   "display_name": "Python 3.9.2 64-bit",
   "language": "python",
   "name": "python3"
  },
  "language_info": {
   "codemirror_mode": {
    "name": "ipython",
    "version": 3
   },
   "file_extension": ".py",
   "mimetype": "text/x-python",
   "name": "python",
   "nbconvert_exporter": "python",
   "pygments_lexer": "ipython3",
   "version": "3.8.10"
  },
  "orig_nbformat": 4
 },
 "nbformat": 4,
 "nbformat_minor": 2
}
