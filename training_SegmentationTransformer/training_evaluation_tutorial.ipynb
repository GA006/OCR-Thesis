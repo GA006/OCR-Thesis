{
 "cells": [
  {
   "cell_type": "markdown",
   "metadata": {},
   "source": [
    "# Evaluation Tutorial\n",
    "In this notebook we see how to obtain evaluation metrics on the valuation split after training a model.\n",
    "## Dependencies & Global Variables"
   ]
  },
  {
   "cell_type": "code",
   "execution_count": null,
   "metadata": {},
   "outputs": [],
   "source": [
    "import os\n",
    "import numpy as np\n",
    "from PIL import Image\n",
    "\n",
    "from utils.evaluation_metrics import metrics, save_metrics\n",
    "from mmseg.apis import init_segmentor, inference_segmentor"
   ]
  },
  {
   "cell_type": "code",
   "execution_count": 1,
   "metadata": {},
   "outputs": [],
   "source": [
    "PATH_TO_MODEL          = './model_output/3_class_SETR_PUP/iter_40000.pth'\n",
    "PATH_TO_CONFIG         = './model_output/3_class_SETR_PUP/config.py'\n",
    "PATH_TO_IMAGES         = './data/setr_images'\n",
    "PATH_TO_ANNOTATIONS    = './data/setr_annotations_palette'\n",
    "PATH_TO_VALIDATION_SET = './data/splits/val.txt'\n",
    "EXTENSION              = '.png'\n",
    "PATH_TO_RESULTS        = './model_output/3_class_SETR_PUP/results.csv'"
   ]
  },
  {
   "cell_type": "markdown",
   "metadata": {},
   "source": [
    "## Model Initialization "
   ]
  },
  {
   "cell_type": "code",
   "execution_count": null,
   "metadata": {},
   "outputs": [],
   "source": [
    "with open(PATH_TO_VALIDATION_SET) as f:\n",
    "    val = f.readlines()\n",
    "\n",
    "validation_set = [i.strip('\\n') + EXTENSION for i in val]"
   ]
  },
  {
   "cell_type": "code",
   "execution_count": null,
   "metadata": {},
   "outputs": [],
   "source": [
    "\n",
    "model = init_segmentor(PATH_TO_CONFIG, PATH_TO_MODEL, device='cuda:0')"
   ]
  },
  {
   "cell_type": "markdown",
   "metadata": {},
   "source": [
    "## Inference"
   ]
  },
  {
   "cell_type": "code",
   "execution_count": null,
   "metadata": {},
   "outputs": [],
   "source": [
    "pred_label = []\n",
    "gt_label   = []\n",
    "\n",
    "for i in validation_set:\n",
    "    pred_label.append(inference_segmentor(model, os.path.join(PATH_TO_IMAGES, i)))\n",
    "    gt_label.append(np.asarray(Image.open(os.path.join(PATH_TO_ANNOTATIONS, i))))"
   ]
  },
  {
   "cell_type": "markdown",
   "metadata": {},
   "source": [
    "## Evaluation\n",
    "We obtain Precision, Recall, F1 Score, and Accuracy on the evaluation set."
   ]
  },
  {
   "cell_type": "code",
   "execution_count": null,
   "metadata": {},
   "outputs": [],
   "source": [
    "score = metrics(gt_label, pred_label, model.CLASSES)"
   ]
  },
  {
   "cell_type": "code",
   "execution_count": null,
   "metadata": {},
   "outputs": [],
   "source": [
    "table = save_metrics(score, model.CLASSES, PATH_TO_RESULTS, True)"
   ]
  }
 ],
 "metadata": {
  "interpreter": {
   "hash": "df7a72cfdbac33f9959a628fb717b15da375b907a1b3d0daedca2cd3299ed728"
  },
  "kernelspec": {
   "display_name": "Python 3.7.13 ('open-mmlab')",
   "language": "python",
   "name": "python3"
  },
  "language_info": {
   "codemirror_mode": {
    "name": "ipython",
    "version": 3
   },
   "file_extension": ".py",
   "mimetype": "text/x-python",
   "name": "python",
   "nbconvert_exporter": "python",
   "pygments_lexer": "ipython3",
   "version": "3.7.13"
  },
  "orig_nbformat": 4
 },
 "nbformat": 4,
 "nbformat_minor": 2
}
